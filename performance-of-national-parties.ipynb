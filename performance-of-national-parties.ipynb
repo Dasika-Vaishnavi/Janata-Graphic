{
 "cells": [
  {
   "cell_type": "markdown",
   "metadata": {},
   "source": [
    "# Introduction\n",
    "\n",
    " **Loksabha Election Results from 1951 to 2019**. \n",
    " ### This analysis of Janta Graphic is a representation of the changing leads of political parties and their influence in India."
   ]
  },
  {
   "cell_type": "code",
   "execution_count": 1,
   "metadata": {
    "_cell_guid": "b1076dfc-b9ad-4769-8c92-a6c4dae69d19",
    "_kg_hide-input": false,
    "_kg_hide-output": true,
    "_uuid": "8f2839f25d086af736a60e9eeb907d3b93b6e0e5"
   },
   "outputs": [
    {
     "name": "stdout",
     "output_type": "stream",
     "text": [
      "/kaggle/input/national-parties-data-india-19512019/IndianElection.csv\n",
      "/kaggle/input/national-parties-data-india-19512019/Variables Description.csv\n"
     ]
    }
   ],
   "source": [
    "#importing some libraries\n",
    "import numpy as np \n",
    "import pandas as pd \n",
    "import matplotlib.pyplot as plt\n",
    "%matplotlib inline\n",
    "import seaborn as sns\n",
    "from matplotlib import cm\n",
    "import matplotlib\n",
    "import plotly.graph_objects as go\n",
    "from IPython.core.display import HTML\n",
    "\n",
    "import os\n",
    "for dirname, _, filenames in os.walk('/kaggle/input'):\n",
    "    for filename in filenames:\n",
    "        print(os.path.join(dirname, filename))\n"
   ]
  },
  {
   "cell_type": "markdown",
   "metadata": {},
   "source": [
    "Lets look at the data"
   ]
  },
  {
   "cell_type": "code",
   "execution_count": 2,
   "metadata": {},
   "outputs": [
    {
     "data": {
      "text/html": [
       "<div>\n",
       "<style scoped>\n",
       "    .dataframe tbody tr th:only-of-type {\n",
       "        vertical-align: middle;\n",
       "    }\n",
       "\n",
       "    .dataframe tbody tr th {\n",
       "        vertical-align: top;\n",
       "    }\n",
       "\n",
       "    .dataframe thead th {\n",
       "        text-align: right;\n",
       "    }\n",
       "</style>\n",
       "<table border=\"1\" class=\"dataframe\">\n",
       "  <thead>\n",
       "    <tr style=\"text-align: right;\">\n",
       "      <th></th>\n",
       "      <th>Year</th>\n",
       "      <th>INC_c</th>\n",
       "      <th>INC_w</th>\n",
       "      <th>INC_DF</th>\n",
       "      <th>INC_votes</th>\n",
       "      <th>CPI_c</th>\n",
       "      <th>CPI_w</th>\n",
       "      <th>CPI_DF</th>\n",
       "      <th>CPI_votes</th>\n",
       "      <th>CPM_c</th>\n",
       "      <th>...</th>\n",
       "      <th>ICSS_w</th>\n",
       "      <th>ICSS_DF</th>\n",
       "      <th>ICSS_votes</th>\n",
       "      <th>Total_cN</th>\n",
       "      <th>Total_wN</th>\n",
       "      <th>Total_seats</th>\n",
       "      <th>Total_DFN</th>\n",
       "      <th>Total_votesN</th>\n",
       "      <th>Total_Valid_votes</th>\n",
       "      <th>Total_electors</th>\n",
       "    </tr>\n",
       "  </thead>\n",
       "  <tbody>\n",
       "    <tr>\n",
       "      <th>0</th>\n",
       "      <td>1951</td>\n",
       "      <td>479</td>\n",
       "      <td>364</td>\n",
       "      <td>4</td>\n",
       "      <td>47665951</td>\n",
       "      <td>49</td>\n",
       "      <td>16</td>\n",
       "      <td>8</td>\n",
       "      <td>3487401</td>\n",
       "      <td>NaN</td>\n",
       "      <td>...</td>\n",
       "      <td>NaN</td>\n",
       "      <td>NaN</td>\n",
       "      <td>NaN</td>\n",
       "      <td>1217</td>\n",
       "      <td>418</td>\n",
       "      <td>489</td>\n",
       "      <td>344</td>\n",
       "      <td>80516821</td>\n",
       "      <td>105950083</td>\n",
       "      <td>173212343</td>\n",
       "    </tr>\n",
       "    <tr>\n",
       "      <th>1</th>\n",
       "      <td>1957</td>\n",
       "      <td>490</td>\n",
       "      <td>371</td>\n",
       "      <td>2</td>\n",
       "      <td>57579589</td>\n",
       "      <td>110</td>\n",
       "      <td>27</td>\n",
       "      <td>16</td>\n",
       "      <td>10754075</td>\n",
       "      <td>NaN</td>\n",
       "      <td>...</td>\n",
       "      <td>NaN</td>\n",
       "      <td>NaN</td>\n",
       "      <td>NaN</td>\n",
       "      <td>919</td>\n",
       "      <td>421</td>\n",
       "      <td>494</td>\n",
       "      <td>130</td>\n",
       "      <td>88069597</td>\n",
       "      <td>120513915</td>\n",
       "      <td>193652179</td>\n",
       "    </tr>\n",
       "    <tr>\n",
       "      <th>2</th>\n",
       "      <td>1962</td>\n",
       "      <td>488</td>\n",
       "      <td>361</td>\n",
       "      <td>3</td>\n",
       "      <td>51509084</td>\n",
       "      <td>137</td>\n",
       "      <td>29</td>\n",
       "      <td>26</td>\n",
       "      <td>11450037</td>\n",
       "      <td>NaN</td>\n",
       "      <td>...</td>\n",
       "      <td>NaN</td>\n",
       "      <td>NaN</td>\n",
       "      <td>NaN</td>\n",
       "      <td>1269</td>\n",
       "      <td>440</td>\n",
       "      <td>494</td>\n",
       "      <td>362</td>\n",
       "      <td>90407285</td>\n",
       "      <td>115168890</td>\n",
       "      <td>216361569</td>\n",
       "    </tr>\n",
       "    <tr>\n",
       "      <th>3</th>\n",
       "      <td>1967</td>\n",
       "      <td>516</td>\n",
       "      <td>283</td>\n",
       "      <td>7</td>\n",
       "      <td>59490701</td>\n",
       "      <td>109</td>\n",
       "      <td>23</td>\n",
       "      <td>41</td>\n",
       "      <td>7458396</td>\n",
       "      <td>59.0</td>\n",
       "      <td>...</td>\n",
       "      <td>NaN</td>\n",
       "      <td>NaN</td>\n",
       "      <td>NaN</td>\n",
       "      <td>1342</td>\n",
       "      <td>440</td>\n",
       "      <td>520</td>\n",
       "      <td>390</td>\n",
       "      <td>111051515</td>\n",
       "      <td>145866510</td>\n",
       "      <td>250207401</td>\n",
       "    </tr>\n",
       "    <tr>\n",
       "      <th>4</th>\n",
       "      <td>1971</td>\n",
       "      <td>441</td>\n",
       "      <td>352</td>\n",
       "      <td>4</td>\n",
       "      <td>64033274</td>\n",
       "      <td>87</td>\n",
       "      <td>23</td>\n",
       "      <td>33</td>\n",
       "      <td>6933627</td>\n",
       "      <td>85.0</td>\n",
       "      <td>...</td>\n",
       "      <td>NaN</td>\n",
       "      <td>NaN</td>\n",
       "      <td>NaN</td>\n",
       "      <td>1223</td>\n",
       "      <td>451</td>\n",
       "      <td>518</td>\n",
       "      <td>359</td>\n",
       "      <td>114119663</td>\n",
       "      <td>146602276</td>\n",
       "      <td>274189132</td>\n",
       "    </tr>\n",
       "  </tbody>\n",
       "</table>\n",
       "<p>5 rows × 144 columns</p>\n",
       "</div>"
      ],
      "text/plain": [
       "   Year  INC_c  INC_w  INC_DF  INC_votes  CPI_c  CPI_w  CPI_DF  CPI_votes  \\\n",
       "0  1951    479    364       4   47665951     49     16       8    3487401   \n",
       "1  1957    490    371       2   57579589    110     27      16   10754075   \n",
       "2  1962    488    361       3   51509084    137     29      26   11450037   \n",
       "3  1967    516    283       7   59490701    109     23      41    7458396   \n",
       "4  1971    441    352       4   64033274     87     23      33    6933627   \n",
       "\n",
       "   CPM_c  ...  ICSS_w  ICSS_DF  ICSS_votes  Total_cN  Total_wN  Total_seats  \\\n",
       "0    NaN  ...     NaN      NaN         NaN      1217       418          489   \n",
       "1    NaN  ...     NaN      NaN         NaN       919       421          494   \n",
       "2    NaN  ...     NaN      NaN         NaN      1269       440          494   \n",
       "3   59.0  ...     NaN      NaN         NaN      1342       440          520   \n",
       "4   85.0  ...     NaN      NaN         NaN      1223       451          518   \n",
       "\n",
       "   Total_DFN  Total_votesN  Total_Valid_votes  Total_electors  \n",
       "0        344      80516821          105950083       173212343  \n",
       "1        130      88069597          120513915       193652179  \n",
       "2        362      90407285          115168890       216361569  \n",
       "3        390     111051515          145866510       250207401  \n",
       "4        359     114119663          146602276       274189132  \n",
       "\n",
       "[5 rows x 144 columns]"
      ]
     },
     "execution_count": 2,
     "metadata": {},
     "output_type": "execute_result"
    }
   ],
   "source": [
    "df = pd.read_csv(\"../input/national-parties-data-india-19512019/IndianElection.csv\" )\n",
    "df = df.loc[:, ~df.columns.str.contains('^Unnamed')]  #deleting unnamed columns. I have created this dataset , dont know why there are so many unnamed columns.\n",
    "df.head(5)\n"
   ]
  },
  {
   "cell_type": "code",
   "execution_count": 3,
   "metadata": {},
   "outputs": [
    {
     "data": {
      "text/plain": [
       "array([1951, 1957, 1962, 1967, 1971, 1977, 1980, 1984, 1989, 1991, 1996,\n",
       "       1998, 1999, 2004, 2009, 2014, 2019])"
      ]
     },
     "execution_count": 3,
     "metadata": {},
     "output_type": "execute_result"
    }
   ],
   "source": [
    "df.Year.unique()"
   ]
  },
  {
   "cell_type": "markdown",
   "metadata": {},
   "source": [
    "We have data about contestents , winning seats and Deposit Fortified candidates from 1951 to 2019.\n",
    "\n",
    "**Deposit Fortified** : If a candidate fails to get 1/6 of the total valid votes franchised in that constituency then the amount deposited by the candidate is seized by the Election Commission of India. As per Section 34, 1 (a) of the Representation of the People Act,1951"
   ]
  },
  {
   "cell_type": "code",
   "execution_count": 4,
   "metadata": {
    "_kg_hide-input": true
   },
   "outputs": [],
   "source": [
    "dfc = df.copy()\n",
    "dfc = dfc.loc[:,~dfc.columns.str.startswith('Total')]\n",
    "dfc = dfc.loc[:,~dfc.columns.str.endswith('votes')]\n",
    "dfc = dfc.loc[:,~dfc.columns.str.endswith('c')]\n",
    "dfc = dfc.loc[:,~dfc.columns.str.endswith('C')]\n",
    "dfc = dfc.loc[:,~dfc.columns.str.endswith('DF')]\n",
    "dfc = dfc.fillna(0)\n",
    "dfc = dfc.astype(int)\n",
    "dfc = dfc.T.reset_index()\n",
    "\n",
    "dfc = dfc.rename(columns=dfc.iloc[0]).drop(dfc.index[0])\n",
    "dfc['Year'] = dfc['Year'].str.replace('_w', '')\n",
    "dfc.to_csv('win.csv',index=False)"
   ]
  },
  {
   "cell_type": "markdown",
   "metadata": {
    "_kg_hide-input": true
   },
   "source": [
    "\n",
    "**Bar Chart Race**"
   ]
  },
  {
   "cell_type": "code",
   "execution_count": 5,
   "metadata": {
    "_kg_hide-input": true
   },
   "outputs": [
    {
     "data": {
      "text/html": [
       "<div class=\"flourish-embed flourish-bar-chart-race\" data-src=\"visualisation/2681432\" data-url=\"https://flo.uri.sh/visualisation/2681432/embed\"><script src=\"https://public.flourish.studio/resources/embed.js\"></script></div>"
      ],
      "text/plain": [
       "<IPython.core.display.HTML object>"
      ]
     },
     "execution_count": 5,
     "metadata": {},
     "output_type": "execute_result"
    }
   ],
   "source": [
    "\n",
    "HTML('''<div class=\"flourish-embed flourish-bar-chart-race\" data-src=\"visualisation/2681432\" data-url=\"https://flo.uri.sh/visualisation/2681432/embed\"><script src=\"https://public.flourish.studio/resources/embed.js\"></script></div>''')"
   ]
  },
  {
   "cell_type": "code",
   "execution_count": 6,
   "metadata": {},
   "outputs": [],
   "source": [
    "dfmelt = pd.melt(df, id_vars=['Year'], value_vars= df.loc[:, df.columns != 'Year'],\n",
    "        var_name='Party', value_name='Seats')\n",
    "\n",
    "dfmelt = dfmelt[dfmelt['Party'].str.contains(\"_w\")]\n",
    "dfmelt = dfmelt[~dfmelt.Party.str.contains(\"_wN\")]\n",
    "dfmelt.Party = dfmelt.Party.str.replace('_w', '')\n",
    "\n",
    "dfmelt = dfmelt.pivot(index='Party', columns='Year', values='Seats')\n",
    "dfmelt = dfmelt.fillna(0)\n",
    "dfmelt = dfmelt.astype(int)\n",
    "dfmelt.to_csv('parl.csv',index= True)\n"
   ]
  },
  {
   "cell_type": "code",
   "execution_count": null,
   "metadata": {},
   "outputs": [],
   "source": []
  },
  {
   "cell_type": "markdown",
   "metadata": {},
   "source": [
    "# Election Results over the years"
   ]
  },
  {
   "cell_type": "code",
   "execution_count": 7,
   "metadata": {},
   "outputs": [
    {
     "data": {
      "text/html": [
       "<div class=\"flourish-embed flourish-parliament\" data-src=\"visualisation/2445706\" data-url=\"https://flo.uri.sh/visualisation/2445706/embed\"><script src=\"https://public.flourish.studio/resources/embed.js\"></script></div>"
      ],
      "text/plain": [
       "<IPython.core.display.HTML object>"
      ]
     },
     "execution_count": 7,
     "metadata": {},
     "output_type": "execute_result"
    }
   ],
   "source": [
    "from IPython.core.display import HTML\n",
    "HTML('''<div class=\"flourish-embed flourish-parliament\" data-src=\"visualisation/2445706\" data-url=\"https://flo.uri.sh/visualisation/2445706/embed\"><script src=\"https://public.flourish.studio/resources/embed.js\"></script></div>''')"
   ]
  },
  {
   "cell_type": "markdown",
   "metadata": {},
   "source": [
    "Voting Percentage over the Years & Voting percentage for Natioanl Parties"
   ]
  },
  {
   "cell_type": "code",
   "execution_count": 8,
   "metadata": {},
   "outputs": [],
   "source": [
    "df['vote_percent'] = (df['Total_Valid_votes'] / df['Total_electors'])*100\n",
    "df['nvote_percent']= (df['Total_votesN'] / df['Total_electors'])*100\n",
    "dfvoting = df[['Year', 'vote_percent', 'nvote_percent']]"
   ]
  },
  {
   "cell_type": "code",
   "execution_count": 9,
   "metadata": {},
   "outputs": [],
   "source": [
    "dfvoting = pd.melt(dfvoting, id_vars=['Year'], value_vars= ['vote_percent','nvote_percent'],\n",
    "        var_name='total', value_name='percent')"
   ]
  },
  {
   "cell_type": "code",
   "execution_count": 10,
   "metadata": {},
   "outputs": [
    {
     "data": {
      "image/png": "[encoded data removed]",
      "text/plain": [
       "<Figure size 1152x720 with 1 Axes>"
      ]
     },
     "metadata": {},
     "output_type": "display_data"
    }
   ],
   "source": [
    "sns.set_context(\"poster\")\n",
    "sns.set_style(\"whitegrid\")\n",
    "plt.figure(figsize=(16,10))\n",
    "ax = sns.barplot(x = 'Year', y = 'percent',hue = 'total', data = dfvoting)\n",
    "\n",
    "plt.xticks(rotation= 45)\n",
    "plt.title('Percentage of total voting and voting percentage to Natioanl Party',size = 25)\n",
    "ax.get_legend().set_bbox_to_anchor((1, 1)) #position of legend"
   ]
  }
 ],
 "metadata": {
  "kernelspec": {
   "display_name": "Python 3",
   "language": "python",
   "name": "python3"
  },
  "language_info": {
   "codemirror_mode": {
    "name": "ipython",
    "version": 3
   },
   "file_extension": ".py",
   "mimetype": "text/x-python",
   "name": "python",
   "nbconvert_exporter": "python",
   "pygments_lexer": "ipython3",
   "version": "3.7.6"
  }
 },
 "nbformat": 4,
 "nbformat_minor": 4
}
